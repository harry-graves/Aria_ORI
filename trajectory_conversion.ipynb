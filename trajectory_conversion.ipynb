{
  "nbformat": 4,
  "nbformat_minor": 0,
  "metadata": {
    "colab": {
      "provenance": [],
      "authorship_tag": "ABX9TyPRATTsNWVhQMawlxmSTNpS",
      "include_colab_link": true
    },
    "kernelspec": {
      "name": "python3",
      "display_name": "Python 3"
    },
    "language_info": {
      "name": "python"
    }
  },
  "cells": [
    {
      "cell_type": "markdown",
      "metadata": {
        "id": "view-in-github",
        "colab_type": "text"
      },
      "source": [
        "<a href=\"https://colab.research.google.com/github/harry-graves/Aria_ORI/blob/main/trajectory_conversion.ipynb\" target=\"_parent\"><img src=\"https://colab.research.google.com/assets/colab-badge.svg\" alt=\"Open In Colab\"/></a>"
      ]
    },
    {
      "cell_type": "markdown",
      "source": [
        "# Trajectory Conversion\n",
        "This script converts both the OpenVINS trajectory format and the Aria MPS trajectory formats to the more convenient TUM format. Note that the MPS closed loop and open loop trajectories have differing formats, so the correct type must be specified when calling `convert_mps_to_tum`."
      ],
      "metadata": {
        "id": "lUt8aF59zhWV"
      }
    },
    {
      "cell_type": "code",
      "execution_count": null,
      "metadata": {
        "id": "XbGZcieKzeB9"
      },
      "outputs": [],
      "source": [
        "import os\n",
        "\n",
        "# To convert OpenVINS trajectories (.txt) to .tum format\n",
        "\n",
        "def convert_ov_to_tum(input_file):\n",
        "    # Change the extension of the input file from .txt to .tum\n",
        "    output_file = os.path.splitext(input_file)[0] + '.tum'\n",
        "\n",
        "    with open(input_file, 'r') as infile, open(output_file, 'w') as outfile:\n",
        "        first_line = True  # Flag to skip the header\n",
        "        for line in infile:\n",
        "            if first_line:\n",
        "                first_line = False  # Skip the first line (header)\n",
        "                continue\n",
        "\n",
        "            if line.startswith(\"#\") or not line.strip():\n",
        "                continue  # Skip comments and empty lines\n",
        "\n",
        "            data = line.strip().split()\n",
        "            timestamp = data[0]\n",
        "            # Extract quaternion and position components\n",
        "            q_x, q_y, q_z, q_w = data[1:5]  # Quaternion\n",
        "            p_x, p_y, p_z = map(float, data[5:8])  # Position\n",
        "\n",
        "            # Write in TUM format: timestamp, p_x, p_y, p_z, q_x, q_y, q_z, q_w\n",
        "            outfile.write(f\"{timestamp} {p_x} {p_y} {p_z} {q_x} {q_y} {q_z} {q_w}\\n\")\n",
        "\n",
        "\n",
        "# To convert Aria MPS trajectories (.csv) to .tum format\n",
        "\n",
        "def convert_mps_to_tum(input_file,loop=\"closed\"):\n",
        "    # Change the extension of the input file from .txt or .csv to .tum\n",
        "    output_file = os.path.splitext(input_file)[0] + '.tum'\n",
        "\n",
        "    with open(input_file, 'r') as infile, open(output_file, 'w') as outfile:\n",
        "        first_line = True  # Flag to skip the header\n",
        "        for line in infile:\n",
        "            if first_line:\n",
        "                first_line = False  # Skip the first line (header)\n",
        "                continue\n",
        "\n",
        "            if not line.strip():\n",
        "                continue  # Skip empty lines\n",
        "\n",
        "            data = line.strip().split(',')\n",
        "\n",
        "            # The closed loop and open loop outputs have slightly differnet formats\n",
        "            # For open loop, the timestamp is in column 0, vs column 1 for closed loop\n",
        "            if loop == \"open\":\n",
        "                timestamp_us = float(data[0])  # tracking_timestamp_us\n",
        "            else:\n",
        "                timestamp_us = float(data[1])  # tracking_timestamp_us\n",
        "            # Convert microseconds to seconds for TUM format\n",
        "            timestamp_s = timestamp_us / 1e6\n",
        "\n",
        "            # Extract position components\n",
        "            p_x, p_y, p_z = map(float, data[3:6])  # Convert to float\n",
        "\n",
        "            # Extract quaternion components\n",
        "            q_x, q_y, q_z, q_w = data[6:10]\n",
        "\n",
        "            # Write in TUM format: timestamp, p_x, p_y, p_z, q_x, q_y, q_z, q_w\n",
        "            outfile.write(f\"{timestamp_s:.6f} {p_x} {p_y} {p_z} {q_x} {q_y} {q_z} {q_w}\\n\")\n",
        "\n",
        "\n",
        "# Example usage\n",
        "input_filepath = 'ov_estimate.txt'\n",
        "convert_ov_to_tum(input_filepath)\n",
        "\n",
        "input_filepath = 'open_loop_trajectory.csv'\n",
        "convert_mps_to_tum(input_filepath,loop=\"open\")\n",
        "\n",
        "input_filepath = 'closed_loop_trajectory.csv'\n",
        "convert_mps_to_tum(input_filepath,loop=\"closed\")"
      ]
    }
  ]
}