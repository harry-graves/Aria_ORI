{
  "nbformat": 4,
  "nbformat_minor": 0,
  "metadata": {
    "colab": {
      "provenance": [],
      "authorship_tag": "ABX9TyNFsMqg87bS/AvCIx6kMiIj",
      "include_colab_link": true
    },
    "kernelspec": {
      "name": "python3",
      "display_name": "Python 3"
    },
    "language_info": {
      "name": "python"
    }
  },
  "cells": [
    {
      "cell_type": "markdown",
      "metadata": {
        "id": "view-in-github",
        "colab_type": "text"
      },
      "source": [
        "<a href=\"https://colab.research.google.com/github/harry-graves/Aria_ORI/blob/main/Aria_Calibration_Parameters.ipynb\" target=\"_parent\"><img src=\"https://colab.research.google.com/assets/colab-badge.svg\" alt=\"Open In Colab\"/></a>"
      ]
    },
    {
      "cell_type": "code",
      "source": [
        "print(\"Running from Google Colab, installing projectaria_tools\")\n",
        "!pip install projectaria-tools"
      ],
      "metadata": {
        "id": "5Nx4jyUaBuLk"
      },
      "execution_count": null,
      "outputs": []
    },
    {
      "cell_type": "code",
      "source": [
        "from projectaria_tools.core import data_provider, calibration\n",
        "from projectaria_tools.core.image import InterpolationMethod\n",
        "from projectaria_tools.core.sensor_data import TimeDomain, TimeQueryOptions\n",
        "from projectaria_tools.core.stream_id import RecordableTypeId, StreamId\n",
        "import numpy as np\n",
        "import os\n",
        "from matplotlib import pyplot as plt\n",
        "from google.colab import drive"
      ],
      "metadata": {
        "id": "ao5fyNDICAzK"
      },
      "execution_count": 5,
      "outputs": []
    },
    {
      "cell_type": "code",
      "source": [
        "if not os.path.exists('Calibration.vrs'):\n",
        "    print('Please upload VRS file to Colab workspace!')\n",
        "else:\n",
        "  vrsfile = 'Calibration.vrs'"
      ],
      "metadata": {
        "id": "fltqgahVCnag"
      },
      "execution_count": 18,
      "outputs": []
    },
    {
      "cell_type": "code",
      "source": [
        "print(f\"Creating data provider from {vrsfile}\")\n",
        "provider = data_provider.create_vrs_data_provider(vrsfile)\n",
        "if not provider:\n",
        "    print(\"Invalid vrs data provider\")"
      ],
      "metadata": {
        "id": "IvrzyBpvCD9B"
      },
      "execution_count": null,
      "outputs": []
    },
    {
      "cell_type": "code",
      "source": [
        "device_calib = provider.get_device_calibration()\n",
        "all_sensor_labels = device_calib.get_all_labels()\n",
        "print(f\"device calibration contains calibrations for the following sensors \\n {all_sensor_labels}\")"
      ],
      "metadata": {
        "id": "bgRP4nGDCN3V"
      },
      "execution_count": null,
      "outputs": []
    },
    {
      "cell_type": "code",
      "source": [
        "camera_name = \"camera-rgb\"\n",
        "transform_device_camera = device_calib.get_transform_device_sensor(camera_name).to_matrix()\n",
        "transform_camera_device = np.linalg.inv(transform_device_camera)\n",
        "print(f\"Device calibration origin label {device_calib.get_origin_label()}\")\n",
        "print(f\"{camera_name} has extrinsics of \\n {transform_device_camera}\")\n",
        "\n",
        "rgb_calib = device_calib.get_camera_calib(\"camera-rgb\")"
      ],
      "metadata": {
        "id": "yde7JlwFCW_Q"
      },
      "execution_count": null,
      "outputs": []
    },
    {
      "cell_type": "code",
      "source": [
        "et_calib = device_calib.get_aria_et_camera_calib()\n",
        "if et_calib is not None:\n",
        "    print(f\"Camera {et_calib[0].get_label()} has image size {et_calib[0].get_image_size()}\")\n",
        "    print(f\"Camera {et_calib[1].get_label()} has image size {et_calib[1].get_image_size()}\")\n",
        "\n",
        "imu_calib = device_calib.get_imu_calib(\"imu-left\")\n",
        "if imu_calib is not None:\n",
        "    print(f\"{imu_calib.get_label()} has extrinsics transform_Device_Imu:\\n {imu_calib.get_transform_device_imu().to_matrix3x4()}\")"
      ],
      "metadata": {
        "id": "Iv8fheS4CaEK"
      },
      "execution_count": null,
      "outputs": []
    },
    {
      "cell_type": "code",
      "source": [
        "# Retrieve device calibration\n",
        "device_calib = provider.get_device_calibration()\n",
        "\n",
        "# Define the sensors to retrieve data for\n",
        "sensors = [\"imu-left\", \"imu-right\", \"camera-slam-left\", \"camera-slam-right\", \"camera-rgb\"]\n",
        "\n",
        "# Iterate over each sensor and print the required information\n",
        "for sensor in sensors:\n",
        "    if \"imu\" in sensor:\n",
        "        # Retrieve and print IMU extrinsics\n",
        "        imu_calib = device_calib.get_imu_calib(sensor)\n",
        "        if imu_calib is not None:\n",
        "            print(f\"{imu_calib.get_label()} has extrinsics transform_Device_Imu:\\n{imu_calib.get_transform_device_imu().to_matrix3x4()}\\n\")\n",
        "    else:\n",
        "        # Retrieve and print camera extrinsics and intrinsics\n",
        "        camera_calib = device_calib.get_camera_calib(sensor)\n",
        "        if camera_calib is not None:\n",
        "            extrinsics = device_calib.get_transform_device_sensor(sensor).to_matrix()\n",
        "            focal_lengths = camera_calib.get_focal_lengths()\n",
        "            print(f\"{sensor} has extrinsics of \\n{extrinsics}\")\n",
        "            print(f\"{sensor} has focal lengths: {focal_lengths}\\n\")"
      ],
      "metadata": {
        "id": "T6PMs30VIMLb"
      },
      "execution_count": null,
      "outputs": []
    }
  ]
}