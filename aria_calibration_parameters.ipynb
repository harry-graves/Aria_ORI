{
  "nbformat": 4,
  "nbformat_minor": 0,
  "metadata": {
    "colab": {
      "provenance": [],
      "authorship_tag": "ABX9TyM8U6QgfR88BEXk6EtbHS/+",
      "include_colab_link": true
    },
    "kernelspec": {
      "name": "python3",
      "display_name": "Python 3"
    },
    "language_info": {
      "name": "python"
    }
  },
  "cells": [
    {
      "cell_type": "markdown",
      "metadata": {
        "id": "view-in-github",
        "colab_type": "text"
      },
      "source": [
        "<a href=\"https://colab.research.google.com/github/harry-graves/Aria_ORI/blob/main/aria_calibration_parameters.ipynb\" target=\"_parent\"><img src=\"https://colab.research.google.com/assets/colab-badge.svg\" alt=\"Open In Colab\"/></a>"
      ]
    },
    {
      "cell_type": "code",
      "source": [
        "print(\"Running from Google Colab, installing projectaria_tools\")\n",
        "!pip install projectaria-tools"
      ],
      "metadata": {
        "id": "5Nx4jyUaBuLk"
      },
      "execution_count": null,
      "outputs": []
    },
    {
      "cell_type": "code",
      "source": [
        "from projectaria_tools.core import data_provider, calibration\n",
        "from projectaria_tools.core.image import InterpolationMethod\n",
        "from projectaria_tools.core.sensor_data import TimeDomain, TimeQueryOptions\n",
        "from projectaria_tools.core.stream_id import RecordableTypeId, StreamId\n",
        "import numpy as np\n",
        "import os\n",
        "from matplotlib import pyplot as plt\n",
        "from google.colab import drive"
      ],
      "metadata": {
        "id": "ao5fyNDICAzK"
      },
      "execution_count": null,
      "outputs": []
    },
    {
      "cell_type": "code",
      "source": [
        "# Upload your .vrs file and change the following filename\n",
        "vrsfile = 'ET1.vrs'"
      ],
      "metadata": {
        "id": "fltqgahVCnag"
      },
      "execution_count": null,
      "outputs": []
    },
    {
      "cell_type": "code",
      "source": [
        "print(f\"Creating data provider from {vrsfile}\")\n",
        "provider = data_provider.create_vrs_data_provider(vrsfile)\n",
        "if not provider:\n",
        "    print(\"Invalid vrs data provider\")"
      ],
      "metadata": {
        "id": "IvrzyBpvCD9B"
      },
      "execution_count": null,
      "outputs": []
    },
    {
      "cell_type": "code",
      "source": [
        "device_calib = provider.get_device_calibration()\n",
        "all_sensor_labels = device_calib.get_all_labels()\n",
        "print(f\"device calibration contains calibrations for the following sensors \\n {all_sensor_labels}\")"
      ],
      "metadata": {
        "id": "bgRP4nGDCN3V"
      },
      "execution_count": null,
      "outputs": []
    },
    {
      "cell_type": "code",
      "source": [
        "# Retrieve device calibration\n",
        "device_calib = provider.get_device_calibration()\n",
        "\n",
        "# Define the sensors to retrieve data for\n",
        "sensors = [\"imu-left\", \"imu-right\", \"camera-slam-left\", \"camera-slam-right\", \"camera-rgb\"]\n",
        "\n",
        "# Iterate over each sensor and print the required information\n",
        "for sensor in sensors:\n",
        "    if \"imu\" in sensor:\n",
        "        # Retrieve and print IMU extrinsics\n",
        "        imu_calib = device_calib.get_imu_calib(sensor)\n",
        "        if imu_calib is not None:\n",
        "            print(f\"{imu_calib.get_label()} has extrinsics transform_Device_Imu:\\n{imu_calib.get_transform_device_imu().to_matrix()}\\n\")\n",
        "    else:\n",
        "        # Retrieve and print camera extrinsics and intrinsics\n",
        "        camera_calib = device_calib.get_camera_calib(sensor)\n",
        "        if camera_calib is not None:\n",
        "            extrinsics = device_calib.get_transform_device_sensor(sensor).to_matrix()\n",
        "            focal_lengths = camera_calib.get_focal_lengths()\n",
        "            image_size = camera_calib.get_image_size()\n",
        "            principal_point = camera_calib.get_principal_point()\n",
        "            print(f\"{sensor} has extrinsics of \\n{extrinsics}\")\n",
        "            print(f\"{sensor} has focal lengths: {focal_lengths}\")\n",
        "            print(f\"{sensor} has principal point: {principal_point}\")\n",
        "            print(f\"{sensor} has image size: {image_size}\\n\")\n",
        "\n",
        "# Not sure there is a function for the distortion coefficients :("
      ],
      "metadata": {
        "id": "T6PMs30VIMLb"
      },
      "execution_count": null,
      "outputs": []
    },
    {
      "cell_type": "code",
      "source": [
        "# Put everything in the right IMU frame\n",
        "\n",
        "device_name = \"imu-right\"\n",
        "imu_calib = device_calib.get_imu_calib(device_name)\n",
        "print(f\"Device calibration origin label {device_calib.get_origin_label()}\")\n",
        "T_Device_Imu = imu_calib.get_transform_device_imu().to_matrix()\n",
        "print(f\"{imu_calib.get_label()} has extrinsics T_Device_Imu:\\n {T_Device_Imu} \\n\")\n",
        "\n",
        "device_name = \"camera-slam-left\"\n",
        "cam_calib = device_calib.get_camera_calib(device_name)\n",
        "print(f\"Device calibration origin label {device_calib.get_origin_label()}\")\n",
        "T_Device_Device = device_calib.get_transform_device_sensor(device_name).to_matrix()\n",
        "print(f\"{cam_calib.get_label()} has extrinsics T_Device_Device:\\n {T_Device_Device} \\n\")\n",
        "\n",
        "device_name = \"camera-slam-right\"\n",
        "cam_calib = device_calib.get_camera_calib(device_name)\n",
        "print(f\"Device calibration origin label {device_calib.get_origin_label()}\")\n",
        "T_Device_Cam = device_calib.get_transform_device_sensor(device_name).to_matrix()\n",
        "print(f\"{cam_calib.get_label()} has extrinsics T_Device_Cam:\\n {T_Device_Cam} \\n\")\n",
        "\n",
        "T_Cam_Device = np.linalg.inv(T_Device_Cam)\n",
        "T_Cam_Imu = T_Cam_Device @ T_Device_Imu\n",
        "print(f\"{cam_calib.get_label()} has extrinsics T_Cam_Imu: \\n {T_Cam_Imu} \\n\")"
      ],
      "metadata": {
        "id": "1FVX7Ol2uxBz"
      },
      "execution_count": null,
      "outputs": []
    }
  ]
}