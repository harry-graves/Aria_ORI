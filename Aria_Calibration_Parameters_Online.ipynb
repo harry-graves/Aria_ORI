{
  "nbformat": 4,
  "nbformat_minor": 0,
  "metadata": {
    "colab": {
      "provenance": [],
      "authorship_tag": "ABX9TyMlMYMyNgBhJyGUW5JDSJDH",
      "include_colab_link": true
    },
    "kernelspec": {
      "name": "python3",
      "display_name": "Python 3"
    },
    "language_info": {
      "name": "python"
    }
  },
  "cells": [
    {
      "cell_type": "markdown",
      "metadata": {
        "id": "view-in-github",
        "colab_type": "text"
      },
      "source": [
        "<a href=\"https://colab.research.google.com/github/harry-graves/Aria_ORI/blob/main/Aria_Calibration_Parameters_Online.ipynb\" target=\"_parent\"><img src=\"https://colab.research.google.com/assets/colab-badge.svg\" alt=\"Open In Colab\"/></a>"
      ]
    },
    {
      "cell_type": "markdown",
      "source": [
        "# Project Aria offline and online calibration"
      ],
      "metadata": {
        "id": "AUlul2BTpU3v"
      }
    },
    {
      "cell_type": "markdown",
      "source": [
        "# Setting up workspace"
      ],
      "metadata": {
        "id": "jUUdLd6mp5ev"
      }
    },
    {
      "cell_type": "code",
      "source": [
        "# Colab-specific command\n",
        "print(\"Running from Google Colab, installing projectaria_tools\")\n",
        "!pip install projectaria-tools"
      ],
      "metadata": {
        "id": "5Nx4jyUaBuLk",
        "collapsed": true
      },
      "execution_count": null,
      "outputs": []
    },
    {
      "cell_type": "code",
      "source": [
        "from projectaria_tools.core import data_provider, calibration\n",
        "from projectaria_tools.core.image import InterpolationMethod\n",
        "from projectaria_tools.core.sensor_data import TimeDomain, TimeQueryOptions\n",
        "from projectaria_tools.core.stream_id import RecordableTypeId, StreamId\n",
        "import numpy as np\n",
        "from scipy.spatial.transform import Rotation as R\n",
        "import os\n",
        "from matplotlib import pyplot as plt\n",
        "from google.colab import drive"
      ],
      "metadata": {
        "id": "ao5fyNDICAzK"
      },
      "execution_count": null,
      "outputs": []
    },
    {
      "cell_type": "code",
      "source": [
        "# Load VRS file\n",
        "if not os.path.exists('my_vrs_file.vrs'): # Change filename to match your VRS file\n",
        "    print('Please upload VRS file to Colab workspace!')\n",
        "else:\n",
        "  vrsfile = 'my_vrs_file.vrs'"
      ],
      "metadata": {
        "id": "fltqgahVCnag"
      },
      "execution_count": null,
      "outputs": []
    },
    {
      "cell_type": "code",
      "source": [
        "# Attempt to read VRS file\n",
        "print(f\"Creating data provider from {vrsfile}\")\n",
        "provider = data_provider.create_vrs_data_provider(vrsfile)\n",
        "if not provider:\n",
        "    print(\"Invalid vrs data provider\")"
      ],
      "metadata": {
        "id": "IvrzyBpvCD9B",
        "collapsed": true
      },
      "execution_count": null,
      "outputs": []
    },
    {
      "cell_type": "code",
      "source": [
        "# Print all devices for which we can retrieve calibration data\n",
        "device_calib = provider.get_device_calibration()\n",
        "all_sensor_labels = device_calib.get_all_labels()\n",
        "print(f\"device calibration contains calibrations for the following sensors \\n {all_sensor_labels}\")"
      ],
      "metadata": {
        "id": "bgRP4nGDCN3V"
      },
      "execution_count": null,
      "outputs": []
    },
    {
      "cell_type": "markdown",
      "source": [
        "# Offline calibration: retrieving calibration data from VRS file\n",
        "Here is an example of how calibration data can be pulled directly from the VRS file"
      ],
      "metadata": {
        "id": "Nh8Nowbmm8fX"
      }
    },
    {
      "cell_type": "code",
      "source": [
        "# Example of how to retrieve a device's calibration data\n",
        "imu_calib = device_calib.get_imu_calib(\"imu-left\")\n",
        "print(f\"{imu_calib}\")"
      ],
      "metadata": {
        "id": "F-jEFqS10Dd_"
      },
      "execution_count": null,
      "outputs": []
    },
    {
      "cell_type": "markdown",
      "source": [
        "# Online calibration: retrieving calibration data from MPS online calibration\n",
        "The following translation and quaternion vectors have been taken from the `online_calibration.jsonl` file output from the Aria MPS CLI. The code converts to 4x4 transformation matrices, before changing the frames of reference to be from the left and right IMUs.\n",
        "\n",
        "The lines for inverting the transformation matrices are redundant and have been commented out, though have been left in the script for convenience when sanity checking the transformation matrices.\n",
        "\n",
        "### Reference frame convention\n",
        "\n",
        "> `transform_sensor1_sensor3` = `transform_sensor1_sensor2` * `transform_sensor2_sensor3` \\"
      ],
      "metadata": {
        "id": "hh6ramfHnh_n"
      }
    },
    {
      "cell_type": "code",
      "source": [
        "## SLAM LEFT TO SLAM LEFT\n",
        "# Example translation vector and unit quaternion\n",
        "translation = np.array([0.003259952040202553,-0.000653824454114979,0.005239920517612351])  # Replace with your translation vector\n",
        "quaternion = np.array([0.004801265724988825,-0.004613312110232675,-0.0007412075002993308,0.9999775576532971])  # Replace with your quaternion (qx, qy, qz, qw)\n",
        "\n",
        "# Convert quaternion to a 3x3 rotation matrix\n",
        "rotation_matrix = R.from_quat(quaternion).as_matrix()\n",
        "\n",
        "# Create the 4x4 transformation matrix\n",
        "transformation_slam_left_slam_left = np.eye(4)  # Initialize as identity matrix\n",
        "transformation_slam_left_slam_left[:3, :3] = rotation_matrix  # Top-left 3x3 part is the rotation matrix\n",
        "transformation_slam_left_slam_left[:3, 3] = translation  # Top-right 3x1 part is the translation vector\n",
        "\n",
        "# Invert the transformation matrix\n",
        "# transformation_slam_left_slam_left = np.linalg.inv(transformation_slam_left_slam_left)\n",
        "\n",
        "# Print the transformation matrix\n",
        "print(\"Transformation Matrix:\")\n",
        "print(transformation_slam_left_slam_left)\n",
        "print(\"Transformation matrix approximately equivalent to identity, hence 'device' is slam_camera_left\")"
      ],
      "metadata": {
        "id": "iC-JRInHNQds"
      },
      "execution_count": null,
      "outputs": []
    },
    {
      "cell_type": "code",
      "source": [
        "## SLAM LEFT TO SLAM RIGHT\n",
        "# Example translation vector and unit quaternion\n",
        "translation = np.array([0.006205215315220167,-0.11061372050084281,-0.08685849356093403])  # Replace with your translation vector\n",
        "quaternion = np.array([0.618867238246783,0.005665380565976185,0.029460796742635294,0.784922484289456])  # Replace with your quaternion (qx, qy, qz, qw)\n",
        "\n",
        "# Convert quaternion to a 3x3 rotation matrix\n",
        "rotation_matrix = R.from_quat(quaternion).as_matrix()\n",
        "\n",
        "# Create the 4x4 transformation matrix\n",
        "transformation_slam_left_slam_right = np.eye(4)  # Initialize as identity matrix\n",
        "transformation_slam_left_slam_right[:3, :3] = rotation_matrix  # Top-left 3x3 part is the rotation matrix\n",
        "transformation_slam_left_slam_right[:3, 3] = translation  # Top-right 3x1 part is the translation vector\n",
        "\n",
        "# Invert the transformation matrix\n",
        "# transformation_slam_left_slam_right = np.linalg.inv(transformation_slam_left_slam_right)\n",
        "\n",
        "# Print the transformation matrix\n",
        "print(\"Transformation Matrix:\")\n",
        "print(transformation_slam_left_slam_right)"
      ],
      "metadata": {
        "id": "0fJNVMbvPEUG"
      },
      "execution_count": null,
      "outputs": []
    },
    {
      "cell_type": "code",
      "source": [
        "## SLAM LEFT TO IMU LEFT\n",
        "# Example translation vector and unit quaternion\n",
        "translation = np.array([0.0012331945553230583,-0.00027879517807154197,-0.006125461228296963])  # Replace with your translation vector\n",
        "quaternion = np.array([-0.7017946388946974,-0.7112020658696991,0.038490795158707194,0.013941485192906146])  # Replace with your quaternion (qx, qy, qz, qw)\n",
        "\n",
        "# Convert quaternion to a 3x3 rotation matrix\n",
        "rotation_matrix = R.from_quat(quaternion).as_matrix()\n",
        "\n",
        "# Create the 4x4 transformation matrix\n",
        "transformation_slam_left_imu_left = np.eye(4)  # Initialize as identity matrix\n",
        "transformation_slam_left_imu_left[:3, :3] = rotation_matrix  # Top-left 3x3 part is the rotation matrix\n",
        "transformation_slam_left_imu_left[:3, 3] = translation  # Top-right 3x1 part is the translation vector\n",
        "\n",
        "# Invert the transformation matrix\n",
        "# transformation_slam_left_imu_left = np.linalg.inv(transformation_slam_left_imu_left)\n",
        "\n",
        "# Print the transformation matrix\n",
        "print(\"Transformation Matrix:\")\n",
        "print(transformation_slam_left_imu_left)"
      ],
      "metadata": {
        "id": "mPJQ__WOPkr6"
      },
      "execution_count": null,
      "outputs": []
    },
    {
      "cell_type": "code",
      "source": [
        "## SLAM LEFT TO IMU RIGHT\n",
        "# Example translation vector and unit quaternion\n",
        "translation = np.array([0.006740108552992976,-0.10441154230813779,-0.08996759119591612])  # Replace with your translation vector\n",
        "quaternion = np.array([-0.780659971082157,-0.08507356180629085,0.06006101797442083,0.6162184456436479])  # Replace with your quaternion (qx, qy, qz, qw)\n",
        "\n",
        "# Convert quaternion to a 3x3 rotation matrix\n",
        "rotation_matrix = R.from_quat(quaternion).as_matrix()\n",
        "\n",
        "# Create the 4x4 transformation matrix\n",
        "transformation_slam_left_imu_right = np.eye(4)  # Initialize as identity matrix\n",
        "transformation_slam_left_imu_right[:3, :3] = rotation_matrix  # Top-left 3x3 part is the rotation matrix\n",
        "transformation_slam_left_imu_right[:3, 3] = translation  # Top-right 3x1 part is the translation vector\n",
        "\n",
        "# Invert the transformation matrix\n",
        "#transformation_slam_left_imu_right = np.linalg.inv(transformation_slam_left_imu_right)\n",
        "\n",
        "# Print the transformation matrix\n",
        "print(\"Transformation Matrix:\")\n",
        "print(transformation_slam_left_imu_right)"
      ],
      "metadata": {
        "id": "NNmOEQIkQCpS"
      },
      "execution_count": null,
      "outputs": []
    },
    {
      "cell_type": "code",
      "source": [
        "## SLAM LEFT TO RGB CAMERA\n",
        "# Example translation vector and unit quaternion\n",
        "translation = np.array([-0.004296806838885215,-0.01163616409320352,-0.005152267757980207])  # Replace with your translation vector\n",
        "quaternion = np.array([0.3338698791581407,0.03361584688279826,0.0424966521034542,0.9410605257842233])  # Replace with your quaternion (qx, qy, qz, qw)\n",
        "\n",
        "# Convert quaternion to a 3x3 rotation matrix\n",
        "rotation_matrix = R.from_quat(quaternion).as_matrix()\n",
        "\n",
        "# Create the 4x4 transformation matrix\n",
        "transformation_slam_left_rgb = np.eye(4)  # Initialize as identity matrix\n",
        "transformation_slam_left_rgb[:3, :3] = rotation_matrix  # Top-left 3x3 part is the rotation matrix\n",
        "transformation_slam_left_rgb[:3, 3] = translation  # Top-right 3x1 part is the translation vector\n",
        "\n",
        "# Invert the transformation matrix\n",
        "#transformation_slam_left_imu_right = np.linalg.inv(transformation_slam_left_imu_right)\n",
        "\n",
        "# Print the transformation matrix\n",
        "print(\"Transformation Matrix:\")\n",
        "print(transformation_slam_left_rgb)"
      ],
      "metadata": {
        "id": "cG101ThaU3yj"
      },
      "execution_count": null,
      "outputs": []
    },
    {
      "cell_type": "code",
      "source": [
        "## CHANGING FRAME OF REFERENCE TO IMU LEFT\n",
        "\n",
        "# Inverting transform from SLAM Left to IMU Left\n",
        "transformation_imu_left_slam_left = np.linalg.inv(transformation_slam_left_imu_left)\n",
        "print(\"Transformation Matrix IMU Left to SLAM Left:\")\n",
        "print(transformation_imu_left_slam_left)\n",
        "\n",
        "# Multiplying IMU Left to SLAM Left with SLAM Left to SLAM Right\n",
        "transformation_imu_left_slam_right = transformation_imu_left_slam_left @ transformation_slam_left_slam_right\n",
        "print(\"Transformation Matrix IMU Left to SLAM Right:\")\n",
        "print(transformation_imu_left_slam_right)\n",
        "\n",
        "# Multiplying IMU Left to SLAM Left with SLAM Left to RGB\n",
        "transformation_imu_left_rgb = transformation_imu_left_slam_left @ transformation_slam_left_rgb\n",
        "print(\"Transformation Matrix IMU Left to RGB:\")\n",
        "print(transformation_imu_left_rgb)"
      ],
      "metadata": {
        "id": "d_nf0uJ_QxvD"
      },
      "execution_count": null,
      "outputs": []
    },
    {
      "cell_type": "code",
      "source": [
        "## CHANGING FRAME OF REFERENCE TO IMU RIGHT\n",
        "\n",
        "# Inverting transform from SLAM Left to IMU Right\n",
        "transformation_imu_right_slam_left = np.linalg.inv(transformation_slam_left_imu_right)\n",
        "print(\"Transformation Matrix IMU Right to SLAM Left:\")\n",
        "print(transformation_imu_right_slam_left)\n",
        "\n",
        "# Multiplying IMU Right to SLAM Left with SLAM Left to SLAM Right\n",
        "transformation_imu_right_slam_right = transformation_imu_right_slam_left @ transformation_slam_left_slam_right\n",
        "print(\"Transformation Matrix IMU Right to SLAM Right:\")\n",
        "print(transformation_imu_left_slam_right)\n",
        "\n",
        "# Multiplying IMU Right to SLAM Left with SLAM Left to RGB\n",
        "transformation_imu_right_rgb = transformation_imu_right_slam_left @ transformation_slam_left_rgb\n",
        "print(\"Transformation Matrix IMU Left to RGB:\")\n",
        "print(transformation_imu_right_rgb)"
      ],
      "metadata": {
        "id": "hiyvyFopTkYn"
      },
      "execution_count": null,
      "outputs": []
    }
  ]
}